{
  "nbformat": 4,
  "nbformat_minor": 0,
  "metadata": {
    "colab": {
      "provenance": [],
      "include_colab_link": true
    },
    "kernelspec": {
      "name": "python3",
      "display_name": "Python 3"
    },
    "language_info": {
      "name": "python"
    }
  },
  "cells": [
    {
      "cell_type": "markdown",
      "metadata": {
        "id": "view-in-github",
        "colab_type": "text"
      },
      "source": [
        "<a href=\"https://colab.research.google.com/github/Naveendatta/Apana-collage--demo/blob/main/3_2_Pandas_Descriptive_Statistics.ipynb\" target=\"_parent\"><img src=\"https://colab.research.google.com/assets/colab-badge.svg\" alt=\"Open In Colab\"/></a>"
      ]
    },
    {
      "cell_type": "markdown",
      "source": [
        "Python Pandas - Descriptive Statistics\n",
        "A large number of methods collectively compute descriptive statistics and other related operations on DataFrame. Most of these are aggregations like sum(), mean(), but some of them, like sumsum(), produce an object of the same size. Generally speaking, these methods take an axis argument, just like ndarray.{sum, std, ...}, but the axis can be specified by name or integer"
      ],
      "metadata": {
        "id": "nGkw2zC1HjGl"
      }
    },
    {
      "cell_type": "code",
      "execution_count": null,
      "metadata": {
        "colab": {
          "base_uri": "https://localhost:8080/"
        },
        "id": "Tdv6rIeQHcnT",
        "outputId": "77938a00-8557-4a27-df8b-ad27da8debff"
      },
      "outputs": [
        {
          "output_type": "stream",
          "name": "stdout",
          "text": [
            "      Name  Age  Rating\n",
            "0      Tom   25    4.23\n",
            "1    James   26    3.24\n",
            "2    Ricky   25    3.98\n",
            "3      Vin   23    2.56\n",
            "4    Steve   30    3.20\n",
            "5    Smith   29    4.60\n",
            "6     Jack   23    3.80\n",
            "7      Lee   34    3.78\n",
            "8    David   40    2.98\n",
            "9   Gasper   30    4.80\n",
            "10  Betina   51    4.10\n",
            "11  Andres   46    3.65\n"
          ]
        }
      ],
      "source": [
        "import pandas as pd\n",
        "import numpy as np\n",
        "\n",
        "#Create a Dictionary of series\n",
        "d = {'Name':pd.Series(['Tom','James','Ricky','Vin','Steve','Smith','Jack',\n",
        "   'Lee','David','Gasper','Betina','Andres']),\n",
        "   'Age':pd.Series([25,26,25,23,30,29,23,34,40,30,51,46]),\n",
        "   'Rating':pd.Series([4.23,3.24,3.98,2.56,3.20,4.6,3.8,3.78,2.98,4.80,4.10,3.65])\n",
        "}\n",
        "\n",
        "#Create a DataFrame\n",
        "df = pd.DataFrame(d)\n",
        "print (df)"
      ]
    },
    {
      "cell_type": "markdown",
      "source": [
        "sum()\n",
        "Returns the sum of the values for the requested axis. By default, axis is index (axis=0)."
      ],
      "metadata": {
        "id": "_8e6DzKHH0_k"
      }
    },
    {
      "cell_type": "code",
      "source": [
        "import pandas as pd\n",
        "import numpy as np\n",
        "\n",
        "#Create a Dictionary of series\n",
        "d = {'Name':pd.Series(['Tom','James','Ricky','Vin','Steve','Smith','Jack',\n",
        "   'Lee','David','Gasper','Betina','Andres']),\n",
        "   'Age':pd.Series([25,26,25,23,30,29,23,34,40,30,51,46]),\n",
        "   'Rating':pd.Series([4.23,3.24,3.98,2.56,3.20,4.6,3.8,3.78,2.98,4.80,4.10,3.65])\n",
        "}\n",
        "\n",
        "#Create a DataFrame\n",
        "df = pd.DataFrame(d)\n",
        "print (df.sum())"
      ],
      "metadata": {
        "colab": {
          "base_uri": "https://localhost:8080/"
        },
        "id": "A3IcxbhtH2CD",
        "outputId": "aa4a0e3c-ce3e-40bc-ca71-28c4785a81fe"
      },
      "execution_count": null,
      "outputs": [
        {
          "output_type": "stream",
          "name": "stdout",
          "text": [
            "Name      TomJamesRickyVinSteveSmithJackLeeDavidGasperBe...\n",
            "Age                                                     382\n",
            "Rating                                                44.92\n",
            "dtype: object\n"
          ]
        }
      ]
    },
    {
      "cell_type": "markdown",
      "source": [
        "axis=1\n"
      ],
      "metadata": {
        "id": "xRMSSPD-IEqe"
      }
    },
    {
      "cell_type": "code",
      "source": [],
      "metadata": {
        "id": "ULlTaAxQ9WdS"
      },
      "execution_count": null,
      "outputs": []
    },
    {
      "cell_type": "code",
      "source": [
        "import pandas as pd\n",
        "import numpy as np\n",
        "\n",
        "#Create a Dictionary of series\n",
        "d = {'Name':pd.Series(['Tom','James','Ricky','Vin','Steve','Smith','Jack',\n",
        "   'Lee','David','Gasper','Betina','Andres']),\n",
        "   'Age':pd.Series([25,26,25,23,30,29,23,34,40,30,51,46]),\n",
        "   'Rating':pd.Series([4.23,3.24,3.98,2.56,3.20,4.6,3.8,3.78,2.98,4.80,4.10,3.65])\n",
        "}\n",
        "\n",
        "#Create a DataFrame\n",
        "df = pd.DataFrame(d)\n",
        "print (df.sum(1))"
      ],
      "metadata": {
        "colab": {
          "base_uri": "https://localhost:8080/"
        },
        "id": "q68lLAemIH27",
        "outputId": "0cf61748-264d-4ab7-de7f-0b50e873cfd1"
      },
      "execution_count": null,
      "outputs": [
        {
          "output_type": "stream",
          "name": "stdout",
          "text": [
            "0     29.23\n",
            "1     29.24\n",
            "2     28.98\n",
            "3     25.56\n",
            "4     33.20\n",
            "5     33.60\n",
            "6     26.80\n",
            "7     37.78\n",
            "8     42.98\n",
            "9     34.80\n",
            "10    55.10\n",
            "11    49.65\n",
            "dtype: float64\n"
          ]
        },
        {
          "output_type": "stream",
          "name": "stderr",
          "text": [
            "<ipython-input-4-23418addc541>:13: FutureWarning: Dropping of nuisance columns in DataFrame reductions (with 'numeric_only=None') is deprecated; in a future version this will raise TypeError.  Select only valid columns before calling the reduction.\n",
            "  print (df.sum(1))\n"
          ]
        }
      ]
    },
    {
      "cell_type": "markdown",
      "source": [
        "mean()\n",
        "Returns the average value"
      ],
      "metadata": {
        "id": "M7W5w0vHIaZ9"
      }
    },
    {
      "cell_type": "code",
      "source": [
        "import pandas as pd\n",
        "import numpy as np\n",
        "\n",
        "#Create a Dictionary of series\n",
        "d = {'Name':pd.Series(['Tom','James','Ricky','Vin','Steve','Smith','Jack',\n",
        "   'Lee','David','Gasper','Betina','Andres']),\n",
        "   'Age':pd.Series([25,26,25,23,30,29,23,34,40,30,51,46]),\n",
        "   'Rating':pd.Series([4.23,3.24,3.98,2.56,3.20,4.6,3.8,3.78,2.98,4.80,4.10,3.65])\n",
        "}\n",
        "\n",
        "#Create a DataFrame\n",
        "df = pd.DataFrame(d)\n",
        "print (df.mean())"
      ],
      "metadata": {
        "colab": {
          "base_uri": "https://localhost:8080/"
        },
        "id": "E8EQzUhpIb1c",
        "outputId": "371d7978-db4f-41f5-d913-b42aa0b2fa66"
      },
      "execution_count": null,
      "outputs": [
        {
          "output_type": "stream",
          "name": "stdout",
          "text": [
            "Age       31.833333\n",
            "Rating     3.743333\n",
            "dtype: float64\n"
          ]
        },
        {
          "output_type": "stream",
          "name": "stderr",
          "text": [
            "<ipython-input-6-19cfefa36c03>:13: FutureWarning: The default value of numeric_only in DataFrame.mean is deprecated. In a future version, it will default to False. In addition, specifying 'numeric_only=None' is deprecated. Select only valid columns or specify the value of numeric_only to silence this warning.\n",
            "  print (df.mean())\n"
          ]
        }
      ]
    },
    {
      "cell_type": "markdown",
      "source": [
        "std()\n",
        "Returns the Bressel standard deviation of the numerical columns."
      ],
      "metadata": {
        "id": "3gxcovriIn6c"
      }
    },
    {
      "cell_type": "code",
      "source": [
        "import pandas as pd\n",
        "import numpy as np\n",
        "\n",
        "#Create a Dictionary of series\n",
        "d = {'Name':pd.Series(['Tom','James','Ricky','Vin','Steve','Smith','Jack',\n",
        "   'Lee','David','Gasper','Betina','Andres']),\n",
        "   'Age':pd.Series([25,26,25,23,30,29,23,34,40,30,51,46]),\n",
        "   'Rating':pd.Series([4.23,3.24,3.98,2.56,3.20,4.6,3.8,3.78,2.98,4.80,4.10,3.65])\n",
        "}\n",
        "\n",
        "#Create a DataFrame\n",
        "df = pd.DataFrame(d)\n",
        "print (df.std())"
      ],
      "metadata": {
        "colab": {
          "base_uri": "https://localhost:8080/"
        },
        "id": "iq-Gs7jlIpf7",
        "outputId": "2d4c326e-e069-4a57-9beb-a4ea6554d885"
      },
      "execution_count": null,
      "outputs": [
        {
          "output_type": "stream",
          "name": "stdout",
          "text": [
            "Age       9.232682\n",
            "Rating    0.661628\n",
            "dtype: float64\n"
          ]
        },
        {
          "output_type": "stream",
          "name": "stderr",
          "text": [
            "<ipython-input-7-52b687e1c46f>:13: FutureWarning: The default value of numeric_only in DataFrame.std is deprecated. In a future version, it will default to False. In addition, specifying 'numeric_only=None' is deprecated. Select only valid columns or specify the value of numeric_only to silence this warning.\n",
            "  print (df.std())\n"
          ]
        }
      ]
    },
    {
      "cell_type": "markdown",
      "source": [
        "Functions & Description\n",
        "Let us now understand the functions under Descriptive Statistics in Python Pandas. The following table list down the important functions −\n",
        "\n",
        "Sr.No.\tFunction\tDescription\n",
        "1\tcount()\tNumber of non-null observations\n",
        "2\tsum()\tSum of values\n",
        "3\tmean()\tMean of Values\n",
        "4\tmedian()\tMedian of Values\n",
        "5\tmode()\tMode of values\n",
        "6\tstd()\tStandard Deviation of the Values\n",
        "7\tmin()\tMinimum Value\n",
        "8\tmax()\tMaximum Value\n",
        "9\tabs()\tAbsolute Value\n",
        "10\tprod()\tProduct of Values\n",
        "11\tcumsum()\tCumulative Sum\n",
        "12\tcumprod()\tCumulative Product"
      ],
      "metadata": {
        "id": "XGUFGHc6I3t7"
      }
    },
    {
      "cell_type": "markdown",
      "source": [
        "Summarizing Data\n",
        "The describe() function computes a summary of statistics pertaining to the DataFrame columns."
      ],
      "metadata": {
        "id": "khnPBDRYKmhE"
      }
    },
    {
      "cell_type": "code",
      "source": [
        "import pandas as pd\n",
        "import numpy as np\n",
        "\n",
        "#Create a Dictionary of series\n",
        "d = {'Name':pd.Series(['Tom','James','Ricky','Vin','Steve','Smith','Jack',\n",
        "   'Lee','David','Gasper','Betina','Andres']),\n",
        "   'Age':pd.Series([25,26,25,23,30,29,23,34,40,30,51,46]),\n",
        "   'Rating':pd.Series([4.23,3.24,3.98,2.56,3.20,4.6,3.8,3.78,2.98,4.80,4.10,3.65])\n",
        "}\n",
        "\n",
        "#Create a DataFrame\n",
        "df = pd.DataFrame(d)\n",
        "print (df.describe())"
      ],
      "metadata": {
        "colab": {
          "base_uri": "https://localhost:8080/"
        },
        "id": "dTcl_QuXKpxu",
        "outputId": "9304dabf-3cdc-4847-a69f-2ee61aa9c4c5"
      },
      "execution_count": null,
      "outputs": [
        {
          "output_type": "stream",
          "name": "stdout",
          "text": [
            "             Age     Rating\n",
            "count  12.000000  12.000000\n",
            "mean   31.833333   3.743333\n",
            "std     9.232682   0.661628\n",
            "min    23.000000   2.560000\n",
            "25%    25.000000   3.230000\n",
            "50%    29.500000   3.790000\n",
            "75%    35.500000   4.132500\n",
            "max    51.000000   4.800000\n"
          ]
        }
      ]
    },
    {
      "cell_type": "code",
      "source": [
        "import pandas as pd\n",
        "import numpy as np\n",
        "\n",
        "#Create a Dictionary of series\n",
        "d = {'Name':pd.Series(['Tom','James','Ricky','Vin','Steve','Smith','Jack',\n",
        "   'Lee','David','Gasper','Betina','Andres']),\n",
        "   'Age':pd.Series([25,26,25,23,30,29,23,34,40,30,51,46]),\n",
        "   'Rating':pd.Series([4.23,3.24,3.98,2.56,3.20,4.6,3.8,3.78,2.98,4.80,4.10,3.65])\n",
        "}\n",
        "\n",
        "#Create a DataFrame\n",
        "df = pd.DataFrame(d)\n",
        "print (df.describe(include=['object']))"
      ],
      "metadata": {
        "colab": {
          "base_uri": "https://localhost:8080/"
        },
        "id": "XTvV7zovK9zt",
        "outputId": "53493d1f-c697-4941-8b69-ce4ec4282c0b"
      },
      "execution_count": null,
      "outputs": [
        {
          "output_type": "stream",
          "name": "stdout",
          "text": [
            "       Name\n",
            "count    12\n",
            "unique   12\n",
            "top     Tom\n",
            "freq      1\n"
          ]
        }
      ]
    },
    {
      "cell_type": "code",
      "source": [
        "import pandas as pd\n",
        "import numpy as np\n",
        "\n",
        "#Create a Dictionary of series\n",
        "d = {'Name':pd.Series(['Tom','James','Ricky','Vin','Steve','Smith','Jack',\n",
        "   'Lee','David','Gasper','Betina','Andres']),\n",
        "   'Age':pd.Series([25,26,25,23,30,29,23,34,40,30,51,46]),\n",
        "   'Rating':pd.Series([4.23,3.24,3.98,2.56,3.20,4.6,3.8,3.78,2.98,4.80,4.10,3.65])\n",
        "}\n",
        "\n",
        "#Create a DataFrame\n",
        "df = pd.DataFrame(d)\n",
        "print (df. describe(include='all'))"
      ],
      "metadata": {
        "colab": {
          "base_uri": "https://localhost:8080/"
        },
        "id": "mG6rIvXTLGHK",
        "outputId": "6ace5021-e74e-4fe8-848b-b82d4b388a84"
      },
      "execution_count": null,
      "outputs": [
        {
          "output_type": "stream",
          "name": "stdout",
          "text": [
            "       Name        Age     Rating\n",
            "count    12  12.000000  12.000000\n",
            "unique   12        NaN        NaN\n",
            "top     Tom        NaN        NaN\n",
            "freq      1        NaN        NaN\n",
            "mean    NaN  31.833333   3.743333\n",
            "std     NaN   9.232682   0.661628\n",
            "min     NaN  23.000000   2.560000\n",
            "25%     NaN  25.000000   3.230000\n",
            "50%     NaN  29.500000   3.790000\n",
            "75%     NaN  35.500000   4.132500\n",
            "max     NaN  51.000000   4.800000\n"
          ]
        }
      ]
    },
    {
      "cell_type": "markdown",
      "source": [
        "Python Pandas - Function Application\n",
        "To apply your own or another library’s functions to Pandas objects, you should be aware of the three important methods. The methods have been discussed below. The appropriate method to use depends on whether your function expects to operate on an entire DataFrame, row- or column-wise, or element wise.\n",
        "\n",
        "Table wise Function Application: pipe()\n",
        "Row or Column Wise Function Application: apply()\n",
        "Element wise Function Application: applymap()"
      ],
      "metadata": {
        "id": "pL-gQl71LgHr"
      }
    },
    {
      "cell_type": "markdown",
      "source": [
        "adder function\n",
        "The adder function adds two numeric values as parameters and returns the sum.\n",
        "\n",
        "def adder(ele1,ele2):\n",
        "   return ele1+ele2\n",
        "We will now use the custom function to conduct operation on the DataFrame.\n",
        "\n",
        "df = pd.DataFrame(np.random.randn(5,3),columns=['col1','col2','col3'])\n",
        "df.pipe(adder,2)"
      ],
      "metadata": {
        "id": "FdfZi7IbL-gs"
      }
    },
    {
      "cell_type": "code",
      "source": [
        "import pandas as pd\n",
        "import numpy as np\n",
        "\n",
        "def adder(ele1,ele2):\n",
        "   return ele1+ele2\n",
        "\n",
        "df = pd.DataFrame(np.random.randn(5,3),columns=['col1','col2','col3'])\n",
        "df.pipe(adder,2)\n",
        "print (df.apply(np.mean))"
      ],
      "metadata": {
        "colab": {
          "base_uri": "https://localhost:8080/"
        },
        "id": "e6mf0MfjLhbT",
        "outputId": "a17c9e22-c83e-4cce-beba-4df70ac105a4"
      },
      "execution_count": null,
      "outputs": [
        {
          "output_type": "stream",
          "name": "stdout",
          "text": [
            "col1    0.238930\n",
            "col2   -0.562496\n",
            "col3    0.271780\n",
            "dtype: float64\n"
          ]
        }
      ]
    },
    {
      "cell_type": "markdown",
      "source": [
        "Row or Column Wise Function Application\n",
        "Arbitrary functions can be applied along the axes of a DataFrame or Panel using the apply() method, which, like the descriptive statistics methods, takes an optional axis argument. By default, the operation performs column wise, taking each column as an array-like."
      ],
      "metadata": {
        "id": "AeE7twO1MXdz"
      }
    },
    {
      "cell_type": "code",
      "source": [
        "import pandas as pd\n",
        "import numpy as np\n",
        "\n",
        "df = pd.DataFrame(np.random.randn(5,3),columns=['col1','col2','col3'])\n",
        "df.apply(np.mean)\n",
        "print (df.apply(np.mean))"
      ],
      "metadata": {
        "colab": {
          "base_uri": "https://localhost:8080/"
        },
        "id": "mpqhLaL2L_kW",
        "outputId": "8b5c76ca-50db-4736-d959-df31fb8b3577"
      },
      "execution_count": 7,
      "outputs": [
        {
          "output_type": "stream",
          "name": "stdout",
          "text": [
            "col1   -0.342785\n",
            "col2   -0.092775\n",
            "col3    0.107515\n",
            "dtype: float64\n"
          ]
        }
      ]
    },
    {
      "cell_type": "markdown",
      "source": [
        "By passing axis parameter, operations can be performed row wise.\n",
        "\n",
        "Example 2"
      ],
      "metadata": {
        "id": "rqpRSzTWMfka"
      }
    },
    {
      "cell_type": "code",
      "source": [
        "import pandas as pd\n",
        "import numpy as np\n",
        "\n",
        "df = pd.DataFrame(np.random.randn(5,3),columns=['col1','col2','col3'])\n",
        "df.apply(np.mean,axis=1)\n",
        "print (df.apply(np.mean))"
      ],
      "metadata": {
        "colab": {
          "base_uri": "https://localhost:8080/"
        },
        "id": "9B3s2VcdMinu",
        "outputId": "b809a5b6-3d49-4097-9a1c-6e0799a36dce"
      },
      "execution_count": 10,
      "outputs": [
        {
          "output_type": "stream",
          "name": "stdout",
          "text": [
            "col1   -0.150072\n",
            "col2    0.004842\n",
            "col3    0.216562\n",
            "dtype: float64\n"
          ]
        }
      ]
    },
    {
      "cell_type": "code",
      "source": [
        "import pandas as pd\n",
        "import numpy as np\n",
        "\n",
        "df = pd.DataFrame(np.random.randn(5,3),columns=['col1','coln2','coln3'])\n",
        "df.apply(lambda x: x.max() -x.min())\n",
        "print (df.apply(np.mean))\n",
        "\n",
        "\n"
      ],
      "metadata": {
        "colab": {
          "base_uri": "https://localhost:8080/"
        },
        "id": "W2uWBUpa5jnR",
        "outputId": "272fa7a7-1a05-4638-c0fc-7916b7568922"
      },
      "execution_count": 9,
      "outputs": [
        {
          "output_type": "stream",
          "name": "stdout",
          "text": [
            "col1     0.816713\n",
            "coln2    0.557919\n",
            "coln3   -0.591130\n",
            "dtype: float64\n"
          ]
        }
      ]
    },
    {
      "cell_type": "markdown",
      "source": [],
      "metadata": {
        "id": "j87noA4v7Ita"
      }
    },
    {
      "cell_type": "code",
      "source": [
        "import pandas as pd\n",
        "import numpy as np\n",
        "\n",
        "df = pd.DataFrame(np.random.randn(5,3),columns=['col1','col2','col3'])\n",
        "df.apply(lambda x: x.max() - x.min())\n",
        "print (df.apply(np.mean))"
      ],
      "metadata": {
        "colab": {
          "base_uri": "https://localhost:8080/"
        },
        "id": "Q0RZhTvFM-Qc",
        "outputId": "e65b0af1-45a2-4df6-ba75-befb1aaeda08"
      },
      "execution_count": null,
      "outputs": [
        {
          "output_type": "stream",
          "name": "stdout",
          "text": [
            "col1    0.378540\n",
            "col2    0.381401\n",
            "col3    0.210891\n",
            "dtype: float64\n"
          ]
        }
      ]
    },
    {
      "cell_type": "markdown",
      "source": [
        "Element Wise Function Application\n",
        "Not all functions can be vectorized (neither the NumPy arrays which return another array nor any value), the methods applymap() on DataFrame and analogously map() on Series accept any Python function taking a single value and returning a single value."
      ],
      "metadata": {
        "id": "-889sE3yMxYg"
      }
    },
    {
      "cell_type": "code",
      "source": [
        "import pandas as pd\n",
        "import numpy as np\n",
        "df = pd.DataFrame(np.random.randn(5,3),columns=['col1','col2','col3'])\n",
        "\n",
        "# My custom function\n",
        "df['col1'].map(lambda x:x*100)\n",
        "print (df.apply(np.mean))\n"
      ],
      "metadata": {
        "colab": {
          "base_uri": "https://localhost:8080/"
        },
        "id": "0uW4Fhb33EGg",
        "outputId": "19a7aca5-c764-43c7-f9ba-aa5bce7b1349"
      },
      "execution_count": 6,
      "outputs": [
        {
          "output_type": "stream",
          "name": "stdout",
          "text": [
            "col1   -0.021129\n",
            "col2   -0.565376\n",
            "col3   -0.234927\n",
            "dtype: float64\n"
          ]
        }
      ]
    },
    {
      "cell_type": "code",
      "source": [
        "import pandas as pd\n",
        "import numpy as np\n",
        "df = pd.DataFrame(np.random.randn(5,3),columns=['col1','col2','col3'])\n",
        "\n",
        "# My custom function\n",
        "df['col1'].map(lambda x:x*100)\n",
        "print (df.apply(np.mean))"
      ],
      "metadata": {
        "colab": {
          "base_uri": "https://localhost:8080/"
        },
        "id": "7gzi3czx3Dnk",
        "outputId": "f8e95ca7-741b-4df0-801f-04787c87f2be"
      },
      "execution_count": 2,
      "outputs": [
        {
          "output_type": "stream",
          "name": "stdout",
          "text": [
            "col1    1.110944\n",
            "col2    0.931124\n",
            "col3   -0.265429\n",
            "dtype: float64\n"
          ]
        }
      ]
    },
    {
      "cell_type": "code",
      "source": [
        "import pandas as pd\n",
        "import numpy as np\n",
        "df = pd.DataFrame(np.random.randn(5,3),columns=['col1','col2','col3'])\n",
        "\n",
        "# My custom function\n",
        "df['col1'].map(lambda x:x*100)\n",
        "print (df.apply(np.mean))"
      ],
      "metadata": {
        "id": "yrP8tDAvNJAq",
        "outputId": "4e28321c-8d16-491d-80de-69e252f8bc88",
        "colab": {
          "base_uri": "https://localhost:8080/"
        }
      },
      "execution_count": null,
      "outputs": [
        {
          "output_type": "stream",
          "name": "stdout",
          "text": [
            "col1   -0.006099\n",
            "col2   -0.336209\n",
            "col3   -0.024811\n",
            "dtype: float64\n"
          ]
        }
      ]
    }
  ]
}